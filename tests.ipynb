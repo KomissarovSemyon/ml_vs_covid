{
 "cells": [
  {
   "cell_type": "code",
   "execution_count": 1,
   "metadata": {},
   "outputs": [],
   "source": [
    "import requests\n",
    "from bs4 import BeautifulSoup\n",
    "import pandas as pd\n",
    "\n",
    "\n",
    "class Parser:\n",
    "    def get_html(self, url):\n",
    "        r = requests.get(url)\n",
    "        r.encoding = 'utf8'\n",
    "        return r.text\n",
    "    \n",
    "    def cat_link(self, s):\n",
    "        return s.split('/')[2]\n",
    "    \n",
    "    def read_bbc(self, soup):\n",
    "        try:\n",
    "            main_story_body = soup.find('div', class_=\"story-body__inner\").find_all('p') #bbc\n",
    "            main_story_body = [i.string if i.string else \" \" for i in main_story_body]\n",
    "            return ' '.join(main_story_body)\n",
    "        except AttributeError:\n",
    "            try:\n",
    "                main_story_body = soup.find('div', class_=\"story-body__introdation\").find_all('p') #bbc\n",
    "                main_story_body = [i.string if i.string else \" \" for i in main_story_body]\n",
    "                return ' '.join(main_story_body)\n",
    "            except:\n",
    "                return None\n",
    "        \n",
    "    def read_cnn(self, soup):\n",
    "        try:\n",
    "            main_story_body = soup.find('div', class_=\"l-container\").find_all('div') #cnn\n",
    "            main_story_body = [i.string if i.string else \" \" for i in main_story_body]\n",
    "            return ' '.join(main_story_body)\n",
    "        except AttributeError:\n",
    "            return None\n",
    "        \n",
    "    def read_fake(self, soup):\n",
    "        try:\n",
    "            main_story_body1 = soup.find('div', class_=\"entry-content clearfix\").find_all('h2') #fake\n",
    "            main_story_body1 = [i.string if i.string else \" \" for i in main_story_body1]\n",
    "            main_story_body2 = soup.find('div', class_=\"entry-content clearfix\").find_all('p') #fake\n",
    "            main_story_body2 = [i.string if i.string else \" \" for i in main_story_body2]\n",
    "            main_story_body3 = soup.find('div', class_=\"entry-content clearfix\").find_all('blockquote') #fake\n",
    "            main_story_body3 = [i.string if i.string else \" \" for i in main_story_body3]\n",
    "            main_story_body1 = ' '.join(main_story_body1)\n",
    "            main_story_body2 = ' '.join(main_story_body2)\n",
    "            main_story_body3 = ' '.join(main_story_body3)\n",
    "            return ' '.join([main_story_body1, main_story_body2, main_story_body3])\n",
    "        except AttributeError:\n",
    "            return None\n",
    "        \n",
    "    def read_news(self, s, i):\n",
    "        soup = BeautifulSoup(self.get_html(s), 'lxml')\n",
    "        title = soup.find('title').string\n",
    "        link = s\n",
    "        information_agency = self.cat_link(link)\n",
    "        text = None\n",
    "        if information_agency == 'edition.cnn.com':\n",
    "            text = self.read_cnn(soup)\n",
    "        elif information_agency == 'www.bbc.co.uk':\n",
    "            text = self.read_bbc(soup)\n",
    "        elif information_agency == 'worldnewsdailyreport.com':\n",
    "            text = self.read_fake(soup)\n",
    "        data = {'title': title, 'text': text, 'link': link, 'information_agency': information_agency}\n",
    "        return pd.DataFrame(data, index=[i])\n"
   ]
  },
  {
   "cell_type": "code",
   "execution_count": 2,
   "metadata": {},
   "outputs": [],
   "source": [
    "url = 'https://worldnewsdailyreport.com/florida-man-who-fell-victim-to-coronavirus-miraculously-resurrects-from-the-dead-three-days-later-on-easter-sunday/'\n",
    "p = Parser()\n",
    "data = p.read_news(url, 0)"
   ]
  },
  {
   "cell_type": "code",
   "execution_count": 3,
   "metadata": {},
   "outputs": [
    {
     "data": {
      "text/html": [
       "<div>\n",
       "<style scoped>\n",
       "    .dataframe tbody tr th:only-of-type {\n",
       "        vertical-align: middle;\n",
       "    }\n",
       "\n",
       "    .dataframe tbody tr th {\n",
       "        vertical-align: top;\n",
       "    }\n",
       "\n",
       "    .dataframe thead th {\n",
       "        text-align: right;\n",
       "    }\n",
       "</style>\n",
       "<table border=\"1\" class=\"dataframe\">\n",
       "  <thead>\n",
       "    <tr style=\"text-align: right;\">\n",
       "      <th></th>\n",
       "      <th>title</th>\n",
       "      <th>text</th>\n",
       "      <th>link</th>\n",
       "      <th>information_agency</th>\n",
       "    </tr>\n",
       "  </thead>\n",
       "  <tbody>\n",
       "    <tr>\n",
       "      <th>0</th>\n",
       "      <td>Man who died of coronavirus miraculously resur...</td>\n",
       "      <td>A Sarasota resident who was declared clinicall...</td>\n",
       "      <td>https://worldnewsdailyreport.com/florida-man-w...</td>\n",
       "      <td>worldnewsdailyreport.com</td>\n",
       "    </tr>\n",
       "  </tbody>\n",
       "</table>\n",
       "</div>"
      ],
      "text/plain": [
       "                                               title  \\\n",
       "0  Man who died of coronavirus miraculously resur...   \n",
       "\n",
       "                                                text  \\\n",
       "0  A Sarasota resident who was declared clinicall...   \n",
       "\n",
       "                                                link        information_agency  \n",
       "0  https://worldnewsdailyreport.com/florida-man-w...  worldnewsdailyreport.com  "
      ]
     },
     "execution_count": 3,
     "metadata": {},
     "output_type": "execute_result"
    }
   ],
   "source": [
    "data"
   ]
  },
  {
   "cell_type": "code",
   "execution_count": null,
   "metadata": {},
   "outputs": [],
   "source": []
  }
 ],
 "metadata": {
  "kernelspec": {
   "display_name": "Python 3",
   "language": "python",
   "name": "python3"
  },
  "language_info": {
   "codemirror_mode": {
    "name": "ipython",
    "version": 3
   },
   "file_extension": ".py",
   "mimetype": "text/x-python",
   "name": "python",
   "nbconvert_exporter": "python",
   "pygments_lexer": "ipython3",
   "version": "3.7.7"
  }
 },
 "nbformat": 4,
 "nbformat_minor": 4
}
